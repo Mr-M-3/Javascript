{
 "cells": [
  {
   "cell_type": "markdown",
   "id": "e5430785",
   "metadata": {},
   "source": [
    "**APUNTES PROGRAMACION ORIENTADA A OBJETOS**\n",
    "\n",
    "Los objetos en javascript son una lista de claves y valores, parecidos a los array asociativos de php\n",
    "\n",
    "Las claves siempre son Strings"
   ]
  },
  {
   "cell_type": "code",
   "execution_count": null,
   "id": "49918b13",
   "metadata": {
    "vscode": {
     "languageId": "typescript"
    }
   },
   "outputs": [],
   "source": [
    "let x= {a:1 , b:2}  "
   ]
  },
  {
   "cell_type": "markdown",
   "id": "95b1c257",
   "metadata": {},
   "source": [
    "Para acceder a las claves: x.a (en este caso) o x.a=3;\n",
    "\n",
    "Meter una funcion dentro de un objeto:"
   ]
  },
  {
   "cell_type": "code",
   "execution_count": null,
   "id": "2be01eb3",
   "metadata": {
    "vscode": {
     "languageId": "typescript"
    }
   },
   "outputs": [],
   "source": [
    "let x ={a:1,inc:function(x){return x+1}}"
   ]
  },
  {
   "cell_type": "markdown",
   "id": "34b6ecf6",
   "metadata": {},
   "source": [
    "Las funciones también son objetos , tienen atributos/metodos\n",
    "\n",
    "Tambien puedes acceder a una variable por su clave:"
   ]
  },
  {
   "cell_type": "code",
   "execution_count": null,
   "id": "5bbc395f",
   "metadata": {
    "vscode": {
     "languageId": "typescript"
    }
   },
   "outputs": [],
   "source": [
    "let k=\"a\";\n",
    "k[a]"
   ]
  },
  {
   "cell_type": "markdown",
   "id": "1ef8f684",
   "metadata": {},
   "source": [
    "Si intentas acceder a algo que tenga una clave tipo number , la convierte a string\n",
    "\n",
    "Las claves nunca tienen un orden definido, son dinamicas , pueden ser ampliadas.<br>\n",
    "Los atributos se definen en el objeto y los atributos y claves pueden ser modificados y añadidos\n",
    "\n",
    "También puedes iterar un objeto:"
   ]
  },
  {
   "cell_type": "code",
   "execution_count": null,
   "id": "ee934dd6",
   "metadata": {
    "vscode": {
     "languageId": "typescript"
    }
   },
   "outputs": [],
   "source": [
    "for (keyof Object.keys(x)){\n",
    "    console.log(x[key]);\n",
    "}\n",
    "for (valueof Object.values(x)){\n",
    "    console.log(value);\n",
    "}"
   ]
  },
  {
   "cell_type": "markdown",
   "id": "8386491e",
   "metadata": {},
   "source": [
    "También puedes iterar la clave y el valor con entries ('entry' es el nombre en este caso)"
   ]
  },
  {
   "cell_type": "code",
   "execution_count": null,
   "id": "5e2fd08d",
   "metadata": {
    "vscode": {
     "languageId": "typescript"
    }
   },
   "outputs": [],
   "source": [
    "for (let entry of Object.entries(x)) { console.log(entry[0],entry[1]) }"
   ]
  },
  {
   "cell_type": "markdown",
   "id": "6b2cbd57",
   "metadata": {},
   "source": [
    "entry[0] seria la clave y entry[1] el valor , por lo que va mostrando clave,valor\n",
    "\n",
    "Existe una cosa llamada desempaquetar o desestructurar , que es asignar valor y clave a dos variables"
   ]
  },
  {
   "cell_type": "code",
   "execution_count": null,
   "id": "69247095",
   "metadata": {
    "vscode": {
     "languageId": "typescript"
    }
   },
   "outputs": [],
   "source": [
    "for (let[k,v] of Object.entries(x)) { console.log(k,v) }"
   ]
  },
  {
   "cell_type": "markdown",
   "id": "8114e45f",
   "metadata": {},
   "source": [
    "tambien puedes sacar las claves de un objeto con el operador in"
   ]
  },
  {
   "cell_type": "code",
   "execution_count": null,
   "id": "4807de66",
   "metadata": {
    "vscode": {
     "languageId": "typescript"
    }
   },
   "outputs": [],
   "source": [
    "for (key in x){console.log(key)}"
   ]
  },
  {
   "cell_type": "markdown",
   "id": "e249f17c",
   "metadata": {},
   "source": [
    "Un array es un objetoy un objeto se puede comportar como un array , con una diferencia fundamental , en el objeto no \n",
    "<br>esta\n",
    "garantizado el orden de iteracion, en un array si\n",
    "\n",
    "\n",
    "En javascript se puede crear un pseudo array , que bajo determinadas circunstancias se comporta comoun array"
   ]
  },
  {
   "cell_type": "code",
   "execution_count": null,
   "id": "1c42d963",
   "metadata": {
    "vscode": {
     "languageId": "typescript"
    }
   },
   "outputs": [],
   "source": [
    "x={0:\"pepe\",1:\"juan\",2:\"maria\",length:3}"
   ]
  },
  {
   "cell_type": "markdown",
   "id": "7f6803ab",
   "metadata": {},
   "source": [
    "Puedes crear claves concatenando dos variables y te da la suma de ambas"
   ]
  }
 ],
 "metadata": {
  "language_info": {
   "name": "python"
  }
 },
 "nbformat": 4,
 "nbformat_minor": 5
}
